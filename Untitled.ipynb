{
 "cells": [
  {
   "cell_type": "code",
   "execution_count": 4,
   "metadata": {},
   "outputs": [
    {
     "name": "stdout",
     "output_type": "stream",
     "text": [
      "Collecting Flask-PyMongo\n",
      "  Downloading Flask_PyMongo-2.3.0-py2.py3-none-any.whl (12 kB)\n",
      "Requirement already satisfied: PyMongo>=3.3 in c:\\users\\jugvir pabla\\anaconda3\\envs\\pythondata\\lib\\site-packages (from Flask-PyMongo) (3.10.1)\n",
      "Requirement already satisfied: Flask>=0.11 in c:\\users\\jugvir pabla\\anaconda3\\envs\\pythondata\\lib\\site-packages (from Flask-PyMongo) (1.1.1)\n",
      "Requirement already satisfied: Werkzeug>=0.15 in c:\\users\\jugvir pabla\\anaconda3\\envs\\pythondata\\lib\\site-packages (from Flask>=0.11->Flask-PyMongo) (1.0.0)\n",
      "Requirement already satisfied: click>=5.1 in c:\\users\\jugvir pabla\\anaconda3\\envs\\pythondata\\lib\\site-packages (from Flask>=0.11->Flask-PyMongo) (7.1.1)\n",
      "Requirement already satisfied: Jinja2>=2.10.1 in c:\\users\\jugvir pabla\\anaconda3\\envs\\pythondata\\lib\\site-packages (from Flask>=0.11->Flask-PyMongo) (2.11.1)\n",
      "Requirement already satisfied: itsdangerous>=0.24 in c:\\users\\jugvir pabla\\anaconda3\\envs\\pythondata\\lib\\site-packages (from Flask>=0.11->Flask-PyMongo) (1.1.0)\n",
      "Requirement already satisfied: MarkupSafe>=0.23 in c:\\users\\jugvir pabla\\anaconda3\\envs\\pythondata\\lib\\site-packages (from Jinja2>=2.10.1->Flask>=0.11->Flask-PyMongo) (1.1.1)\n",
      "Installing collected packages: Flask-PyMongo\n",
      "Successfully installed Flask-PyMongo-2.3.0\n"
     ]
    }
   ],
   "source": [
    "!pip install Flask-PyMongo"
   ]
  },
  {
   "cell_type": "code",
   "execution_count": 5,
   "metadata": {},
   "outputs": [
    {
     "name": "stderr",
     "output_type": "stream",
     "text": [
      "C:\\Users\\Jugvir Pabla\\anaconda3\\envs\\PythonData\\lib\\site-packages\\splinter\\driver\\webdriver\\__init__.py:528: FutureWarning: browser.find_link_by_partial_text is deprecated. Use browser.links.find_by_partial_text instead.\n",
      "  FutureWarning,\n"
     ]
    }
   ],
   "source": [
    "from flask import Flask, render_template\n",
    "from flask_pymongo import PyMongo\n",
    "import scraping"
   ]
  },
  {
   "cell_type": "code",
   "execution_count": null,
   "metadata": {},
   "outputs": [],
   "source": []
  },
  {
   "cell_type": "code",
   "execution_count": null,
   "metadata": {},
   "outputs": [],
   "source": []
  },
  {
   "cell_type": "code",
   "execution_count": null,
   "metadata": {},
   "outputs": [],
   "source": []
  },
  {
   "cell_type": "code",
   "execution_count": null,
   "metadata": {},
   "outputs": [],
   "source": []
  }
 ],
 "metadata": {
  "kernelspec": {
   "display_name": "PythonData",
   "language": "python",
   "name": "pythondata"
  },
  "language_info": {
   "codemirror_mode": {
    "name": "ipython",
    "version": 3
   },
   "file_extension": ".py",
   "mimetype": "text/x-python",
   "name": "python",
   "nbconvert_exporter": "python",
   "pygments_lexer": "ipython3",
   "version": "3.7.7"
  }
 },
 "nbformat": 4,
 "nbformat_minor": 4
}
